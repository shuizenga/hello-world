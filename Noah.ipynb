{
  "nbformat": 4,
  "nbformat_minor": 0,
  "metadata": {
    "colab": {
      "name": "Untitled0.ipynb",
      "provenance": [],
      "collapsed_sections": [],
      "authorship_tag": "ABX9TyOgZYUyzjUOeh0HxfJmFHiU",
      "include_colab_link": true
    },
    "kernelspec": {
      "name": "python3",
      "display_name": "Python 3"
    },
    "language_info": {
      "name": "python"
    }
  },
  "cells": [
    {
      "cell_type": "markdown",
      "metadata": {
        "id": "view-in-github",
        "colab_type": "text"
      },
      "source": [
        "<a href=\"https://colab.research.google.com/github/shuizenga/hello-world/blob/master/Noah.ipynb\" target=\"_parent\"><img src=\"https://colab.research.google.com/assets/colab-badge.svg\" alt=\"Open In Colab\"/></a>"
      ]
    },
    {
      "cell_type": "code",
      "metadata": {
        "colab": {
          "base_uri": "https://localhost:8080/"
        },
        "id": "GJEc3JJhLJw2",
        "outputId": "9ef62dad-ff3f-48e1-9757-81b051e7586c"
      },
      "source": [
        "for i in range(10):\n",
        "  print(f\"This it the loob number: {i}\")\n",
        "  "
      ],
      "execution_count": 1,
      "outputs": [
        {
          "output_type": "stream",
          "name": "stdout",
          "text": [
            "This it the loob number: 0\n",
            "This it the loob number: 1\n",
            "This it the loob number: 2\n",
            "This it the loob number: 3\n",
            "This it the loob number: 4\n",
            "This it the loob number: 5\n",
            "This it the loob number: 6\n",
            "This it the loob number: 7\n",
            "This it the loob number: 8\n",
            "This it the loob number: 9\n"
          ]
        }
      ]
    },
    {
      "cell_type": "markdown",
      "metadata": {
        "id": "3tg5xOXrLee6"
      },
      "source": [
        "List"
      ]
    },
    {
      "cell_type": "code",
      "metadata": {
        "colab": {
          "base_uri": "https://localhost:8080/"
        },
        "id": "Mwi97ANNLgnL",
        "outputId": "95cc5a30-02a5-4602-bca8-233d7facd185"
      },
      "source": [
        "my_basket = [\"eggs\", \"butter\", \"apple\"]\n",
        "len(my_basket)"
      ],
      "execution_count": 2,
      "outputs": [
        {
          "output_type": "execute_result",
          "data": {
            "text/plain": [
              "3"
            ]
          },
          "metadata": {},
          "execution_count": 2
        }
      ]
    },
    {
      "cell_type": "code",
      "metadata": {
        "colab": {
          "base_uri": "https://localhost:8080/"
        },
        "id": "OhUOzxezLy2l",
        "outputId": "93f224f9-24fd-4dad-fee6-0b83d37d3483"
      },
      "source": [
        "for food in my_basket:\n",
        "  print(f\"I ame hungry I'm agoing to eat: {food}\")"
      ],
      "execution_count": 3,
      "outputs": [
        {
          "output_type": "stream",
          "name": "stdout",
          "text": [
            "I ame hungry I'm agoing to eat: eggs\n",
            "I ame hungry I'm agoing to eat: butter\n",
            "I ame hungry I'm agoing to eat: apple\n"
          ]
        }
      ]
    },
    {
      "cell_type": "code",
      "metadata": {
        "id": "bx7s3yYyMDVz"
      },
      "source": [
        ""
      ],
      "execution_count": null,
      "outputs": []
    }
  ]
}