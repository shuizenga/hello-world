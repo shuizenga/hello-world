{
  "nbformat": 4,
  "nbformat_minor": 0,
  "metadata": {
    "colab": {
      "name": "NoahsCourse.ipynb",
      "provenance": [],
      "collapsed_sections": [],
      "authorship_tag": "ABX9TyM8tD8W9ICDO3KnX5AOO1/V",
      "include_colab_link": true
    },
    "kernelspec": {
      "name": "python3",
      "display_name": "Python 3"
    },
    "language_info": {
      "name": "python"
    }
  },
  "cells": [
    {
      "cell_type": "markdown",
      "metadata": {
        "id": "view-in-github",
        "colab_type": "text"
      },
      "source": [
        "<a href=\"https://colab.research.google.com/github/shuizenga/hello-world/blob/master/NoahsCourse.ipynb\" target=\"_parent\"><img src=\"https://colab.research.google.com/assets/colab-badge.svg\" alt=\"Open In Colab\"/></a>"
      ]
    },
    {
      "cell_type": "code",
      "metadata": {
        "colab": {
          "base_uri": "https://localhost:8080/"
        },
        "id": "GJEc3JJhLJw2",
        "outputId": "9ef62dad-ff3f-48e1-9757-81b051e7586c"
      },
      "source": [
        "for i in range(10):\n",
        "  print(f\"This it the loob number: {i}\")\n",
        "  "
      ],
      "execution_count": 1,
      "outputs": [
        {
          "output_type": "stream",
          "name": "stdout",
          "text": [
            "This it the loob number: 0\n",
            "This it the loob number: 1\n",
            "This it the loob number: 2\n",
            "This it the loob number: 3\n",
            "This it the loob number: 4\n",
            "This it the loob number: 5\n",
            "This it the loob number: 6\n",
            "This it the loob number: 7\n",
            "This it the loob number: 8\n",
            "This it the loob number: 9\n"
          ]
        }
      ]
    },
    {
      "cell_type": "markdown",
      "metadata": {
        "id": "3tg5xOXrLee6"
      },
      "source": [
        "List"
      ]
    },
    {
      "cell_type": "code",
      "metadata": {
        "colab": {
          "base_uri": "https://localhost:8080/"
        },
        "id": "Mwi97ANNLgnL",
        "outputId": "95cc5a30-02a5-4602-bca8-233d7facd185"
      },
      "source": [
        "my_basket = [\"eggs\", \"butter\", \"apple\"]\n",
        "len(my_basket)"
      ],
      "execution_count": 2,
      "outputs": [
        {
          "output_type": "execute_result",
          "data": {
            "text/plain": [
              "3"
            ]
          },
          "metadata": {},
          "execution_count": 2
        }
      ]
    },
    {
      "cell_type": "code",
      "metadata": {
        "colab": {
          "base_uri": "https://localhost:8080/"
        },
        "id": "OhUOzxezLy2l",
        "outputId": "d94cb404-cc33-49fc-9dd1-3a93860b9a8a"
      },
      "source": [
        "for food in my_basket:\n",
        "  print(f\"I ame hungry I'm agoing to eat: {food}\")"
      ],
      "execution_count": 17,
      "outputs": [
        {
          "output_type": "stream",
          "name": "stdout",
          "text": [
            "I ame hungry I'm agoing to eat: eggs\n",
            "I ame hungry I'm agoing to eat: butter\n",
            "I ame hungry I'm agoing to eat: apple\n"
          ]
        }
      ]
    },
    {
      "cell_type": "code",
      "metadata": {
        "id": "bx7s3yYyMDVz"
      },
      "source": [
        ""
      ],
      "execution_count": 3,
      "outputs": []
    },
    {
      "cell_type": "markdown",
      "metadata": {
        "id": "JTfXlouNMeFA"
      },
      "source": [
        "Dictionary\n"
      ]
    },
    {
      "cell_type": "code",
      "metadata": {
        "colab": {
          "base_uri": "https://localhost:8080/"
        },
        "id": "FyaCHqgJMgu9",
        "outputId": "7978290e-c1e9-4deb-99d8-aaea8d343e3e"
      },
      "source": [
        "my_dict = {\"one\": \"apple\", \"two\": \"eggs\", \"three\": \"butter\"}\n",
        "len(my_dict)\n",
        "my_dict[\"one\"]\n",
        "\"one\" in my_dict\n",
        "\"five\" in my_dict\n",
        "my_dict.values()\n",
        "\n"
      ],
      "execution_count": 15,
      "outputs": [
        {
          "output_type": "execute_result",
          "data": {
            "text/plain": [
              "dict_values(['apple', 'eggs', 'butter'])"
            ]
          },
          "metadata": {},
          "execution_count": 15
        }
      ]
    },
    {
      "cell_type": "code",
      "metadata": {
        "colab": {
          "base_uri": "https://localhost:8080/"
        },
        "id": "P_rIuFNRNaKl",
        "outputId": "7c193ec7-15b2-4caa-f12b-402114e5c3df"
      },
      "source": [
        "for number, food in my_dict.items():\n",
        "  print(f\"This is {number}: This is food {food}:\")"
      ],
      "execution_count": 22,
      "outputs": [
        {
          "output_type": "stream",
          "name": "stdout",
          "text": [
            "This is one: This is food apple:\n",
            "This is two: This is food eggs:\n",
            "This is three: This is food butter:\n"
          ]
        }
      ]
    },
    {
      "cell_type": "code",
      "metadata": {
        "id": "sc8nL1YiOey0"
      },
      "source": [
        ""
      ],
      "execution_count": null,
      "outputs": []
    },
    {
      "cell_type": "markdown",
      "metadata": {
        "id": "o9F7aiKJOgTf"
      },
      "source": [
        "Real world math problem\n"
      ]
    },
    {
      "cell_type": "code",
      "metadata": {
        "colab": {
          "base_uri": "https://localhost:8080/"
        },
        "id": "NZFNmthJOi8V",
        "outputId": "6e391972-aad0-4e42-8cd7-527e0df26bcb"
      },
      "source": [
        "total = 0\n",
        "expenses = [5, 90, 200, 2000]\n",
        "for expense in expenses:\n",
        "  total += expense\n",
        "  print(f\"adding the following expenses: TOTAL {total}, EXPENSE {expenses}\")"
      ],
      "execution_count": 20,
      "outputs": [
        {
          "output_type": "stream",
          "name": "stdout",
          "text": [
            "adding the following expenses: TOTAL 5, EXPENSE [5, 90, 200, 2000]\n",
            "adding the following expenses: TOTAL 95, EXPENSE [5, 90, 200, 2000]\n",
            "adding the following expenses: TOTAL 295, EXPENSE [5, 90, 200, 2000]\n",
            "adding the following expenses: TOTAL 2295, EXPENSE [5, 90, 200, 2000]\n"
          ]
        }
      ]
    },
    {
      "cell_type": "markdown",
      "metadata": {
        "id": "bh2Fuo7KTIYC"
      },
      "source": [
        "Duplicate Keys\n"
      ]
    },
    {
      "cell_type": "code",
      "metadata": {
        "colab": {
          "base_uri": "https://localhost:8080/",
          "height": 172
        },
        "id": "l6JTRLNrTKvs",
        "outputId": "b385efa5-ace0-4aa2-a86d-4774358f9824"
      },
      "source": [
        "more_dict = {[]: \"one\"}"
      ],
      "execution_count": 21,
      "outputs": [
        {
          "output_type": "error",
          "ename": "TypeError",
          "evalue": "ignored",
          "traceback": [
            "\u001b[0;31m---------------------------------------------------------------------------\u001b[0m",
            "\u001b[0;31mTypeError\u001b[0m                                 Traceback (most recent call last)",
            "\u001b[0;32m<ipython-input-21-a61580cbbeb8>\u001b[0m in \u001b[0;36m<module>\u001b[0;34m()\u001b[0m\n\u001b[0;32m----> 1\u001b[0;31m \u001b[0mmore_dict\u001b[0m \u001b[0;34m=\u001b[0m \u001b[0;34m{\u001b[0m\u001b[0;34m[\u001b[0m\u001b[0;34m]\u001b[0m\u001b[0;34m:\u001b[0m \u001b[0;34m\"one\"\u001b[0m\u001b[0;34m}\u001b[0m\u001b[0;34m\u001b[0m\u001b[0;34m\u001b[0m\u001b[0m\n\u001b[0m",
            "\u001b[0;31mTypeError\u001b[0m: unhashable type: 'list'"
          ]
        }
      ]
    },
    {
      "cell_type": "code",
      "metadata": {
        "id": "YropL0GTTSGU"
      },
      "source": [
        "default"
      ],
      "execution_count": null,
      "outputs": []
    },
    {
      "cell_type": "markdown",
      "metadata": {
        "id": "YgW6QKtBOC2h"
      },
      "source": [
        "# New Section"
      ]
    }
  ]
}