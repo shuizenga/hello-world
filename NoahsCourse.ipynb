{
  "nbformat": 4,
  "nbformat_minor": 0,
  "metadata": {
    "colab": {
      "name": "NoahsCourse.ipynb",
      "provenance": [],
      "collapsed_sections": [],
      "authorship_tag": "ABX9TyPOqteuiIIVEBKouNh2U0Kg",
      "include_colab_link": true
    },
    "kernelspec": {
      "name": "python3",
      "display_name": "Python 3"
    },
    "language_info": {
      "name": "python"
    }
  },
  "cells": [
    {
      "cell_type": "markdown",
      "metadata": {
        "id": "view-in-github",
        "colab_type": "text"
      },
      "source": [
        "<a href=\"https://colab.research.google.com/github/shuizenga/hello-world/blob/master/NoahsCourse.ipynb\" target=\"_parent\"><img src=\"https://colab.research.google.com/assets/colab-badge.svg\" alt=\"Open In Colab\"/></a>"
      ]
    },
    {
      "cell_type": "code",
      "metadata": {
        "colab": {
          "base_uri": "https://localhost:8080/"
        },
        "id": "GJEc3JJhLJw2",
        "outputId": "9ef62dad-ff3f-48e1-9757-81b051e7586c"
      },
      "source": [
        "for i in range(10):\n",
        "  print(f\"This it the loob number: {i}\")\n",
        "  "
      ],
      "execution_count": 1,
      "outputs": [
        {
          "output_type": "stream",
          "name": "stdout",
          "text": [
            "This it the loob number: 0\n",
            "This it the loob number: 1\n",
            "This it the loob number: 2\n",
            "This it the loob number: 3\n",
            "This it the loob number: 4\n",
            "This it the loob number: 5\n",
            "This it the loob number: 6\n",
            "This it the loob number: 7\n",
            "This it the loob number: 8\n",
            "This it the loob number: 9\n"
          ]
        }
      ]
    },
    {
      "cell_type": "markdown",
      "metadata": {
        "id": "3tg5xOXrLee6"
      },
      "source": [
        "List"
      ]
    },
    {
      "cell_type": "code",
      "metadata": {
        "colab": {
          "base_uri": "https://localhost:8080/"
        },
        "id": "Mwi97ANNLgnL",
        "outputId": "95cc5a30-02a5-4602-bca8-233d7facd185"
      },
      "source": [
        "my_basket = [\"eggs\", \"butter\", \"apple\"]\n",
        "len(my_basket)"
      ],
      "execution_count": 2,
      "outputs": [
        {
          "output_type": "execute_result",
          "data": {
            "text/plain": [
              "3"
            ]
          },
          "metadata": {},
          "execution_count": 2
        }
      ]
    },
    {
      "cell_type": "code",
      "metadata": {
        "colab": {
          "base_uri": "https://localhost:8080/"
        },
        "id": "OhUOzxezLy2l",
        "outputId": "93f224f9-24fd-4dad-fee6-0b83d37d3483"
      },
      "source": [
        "for food in my_basket:\n",
        "  print(f\"I ame hungry I'm agoing to eat: {food}\")"
      ],
      "execution_count": 3,
      "outputs": [
        {
          "output_type": "stream",
          "name": "stdout",
          "text": [
            "I ame hungry I'm agoing to eat: eggs\n",
            "I ame hungry I'm agoing to eat: butter\n",
            "I ame hungry I'm agoing to eat: apple\n"
          ]
        }
      ]
    },
    {
      "cell_type": "code",
      "metadata": {
        "id": "bx7s3yYyMDVz"
      },
      "source": [
        ""
      ],
      "execution_count": 3,
      "outputs": []
    },
    {
      "cell_type": "markdown",
      "metadata": {
        "id": "JTfXlouNMeFA"
      },
      "source": [
        "Dictionary\n"
      ]
    },
    {
      "cell_type": "code",
      "metadata": {
        "colab": {
          "base_uri": "https://localhost:8080/"
        },
        "id": "FyaCHqgJMgu9",
        "outputId": "bc238bbc-9ee4-47a6-e74b-f40979c0b44a"
      },
      "source": [
        "my_dict = {\"one\": \"apple\", \"two\": \"eggs\", \"three\": \"butter\"}\n",
        "len(my_dict)\n",
        "my_dict[\"one\"]\n",
        "\"one\" in my_dict\n",
        "\"five\" in my_dict\n",
        "my_dict.values()\n",
        "\n"
      ],
      "execution_count": 9,
      "outputs": [
        {
          "output_type": "execute_result",
          "data": {
            "text/plain": [
              "dict_values(['apple', 'eggs', 'butter'])"
            ]
          },
          "metadata": {},
          "execution_count": 9
        }
      ]
    },
    {
      "cell_type": "code",
      "metadata": {
        "colab": {
          "base_uri": "https://localhost:8080/",
          "height": 191
        },
        "id": "P_rIuFNRNaKl",
        "outputId": "9769abf9-888a-4f44-e1e8-10c986b83f99"
      },
      "source": [
        "for number, food in my_dict.items:\n",
        "  print(f\"This is {number}: This is food {food}\")"
      ],
      "execution_count": 12,
      "outputs": [
        {
          "output_type": "error",
          "ename": "TypeError",
          "evalue": "ignored",
          "traceback": [
            "\u001b[0;31m---------------------------------------------------------------------------\u001b[0m",
            "\u001b[0;31mTypeError\u001b[0m                                 Traceback (most recent call last)",
            "\u001b[0;32m<ipython-input-12-36610d463152>\u001b[0m in \u001b[0;36m<module>\u001b[0;34m()\u001b[0m\n\u001b[0;32m----> 1\u001b[0;31m \u001b[0;32mfor\u001b[0m \u001b[0mnumber\u001b[0m\u001b[0;34m,\u001b[0m \u001b[0mfood\u001b[0m \u001b[0;32min\u001b[0m \u001b[0mmy_dict\u001b[0m\u001b[0;34m.\u001b[0m\u001b[0mitems\u001b[0m\u001b[0;34m:\u001b[0m\u001b[0;34m\u001b[0m\u001b[0;34m\u001b[0m\u001b[0m\n\u001b[0m\u001b[1;32m      2\u001b[0m   \u001b[0mprint\u001b[0m\u001b[0;34m(\u001b[0m\u001b[0;34mf\"This is {number}: This is food {food}\"\u001b[0m\u001b[0;34m)\u001b[0m\u001b[0;34m\u001b[0m\u001b[0;34m\u001b[0m\u001b[0m\n",
            "\u001b[0;31mTypeError\u001b[0m: 'builtin_function_or_method' object is not iterable"
          ]
        }
      ]
    },
    {
      "cell_type": "code",
      "metadata": {
        "id": "sc8nL1YiOey0"
      },
      "source": [
        ""
      ],
      "execution_count": null,
      "outputs": []
    },
    {
      "cell_type": "markdown",
      "metadata": {
        "id": "o9F7aiKJOgTf"
      },
      "source": [
        "Real world math problem\n"
      ]
    },
    {
      "cell_type": "code",
      "metadata": {
        "colab": {
          "base_uri": "https://localhost:8080/"
        },
        "id": "NZFNmthJOi8V",
        "outputId": "0fe2558f-5e9c-45cb-bbd5-5177dba00c5f"
      },
      "source": [
        "total = 0\n",
        "expenses = [5, 90, 200, 2000]\n",
        "for expense in expenses:\n",
        "  total += expense\n",
        "  print(f\"adding the following expenses: TOTAL {total}, EXPENSE {expenses}\")"
      ],
      "execution_count": 14,
      "outputs": [
        {
          "output_type": "stream",
          "name": "stdout",
          "text": [
            "adding the following expenses: TOTAL 5, EXPENSE [5, 90, 200, 2000]\n",
            "adding the following expenses: TOTAL 95, EXPENSE [5, 90, 200, 2000]\n",
            "adding the following expenses: TOTAL 295, EXPENSE [5, 90, 200, 2000]\n",
            "adding the following expenses: TOTAL 2295, EXPENSE [5, 90, 200, 2000]\n"
          ]
        }
      ]
    },
    {
      "cell_type": "markdown",
      "metadata": {
        "id": "YgW6QKtBOC2h"
      },
      "source": [
        "# New Section"
      ]
    }
  ]
}