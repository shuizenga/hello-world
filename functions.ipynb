{
  "nbformat": 4,
  "nbformat_minor": 0,
  "metadata": {
    "colab": {
      "name": "functions.ipynb",
      "provenance": [],
      "authorship_tag": "ABX9TyPlFQ+lIqmxt4pQgOVh4AoW",
      "include_colab_link": true
    },
    "kernelspec": {
      "name": "python3",
      "display_name": "Python 3"
    },
    "language_info": {
      "name": "python"
    }
  },
  "cells": [
    {
      "cell_type": "markdown",
      "metadata": {
        "id": "view-in-github",
        "colab_type": "text"
      },
      "source": [
        "<a href=\"https://colab.research.google.com/github/shuizenga/hello-world/blob/master/functions.ipynb\" target=\"_parent\"><img src=\"https://colab.research.google.com/assets/colab-badge.svg\" alt=\"Open In Colab\"/></a>"
      ]
    },
    {
      "cell_type": "code",
      "metadata": {
        "id": "CUP4pGPFT0Ad"
      },
      "source": [
        ""
      ],
      "execution_count": null,
      "outputs": []
    },
    {
      "cell_type": "markdown",
      "metadata": {
        "id": "-YS7gyA4T2mb"
      },
      "source": [
        "Getting started with functions"
      ]
    },
    {
      "cell_type": "code",
      "metadata": {
        "id": "Ys4kcikDT745"
      },
      "source": [
        "var = 1"
      ],
      "execution_count": null,
      "outputs": []
    },
    {
      "cell_type": "code",
      "metadata": {
        "id": "YTlZmv-RUALk"
      },
      "source": [
        "def simple_function(): pass"
      ],
      "execution_count": null,
      "outputs": []
    },
    {
      "cell_type": "code",
      "metadata": {
        "id": "ROT7gWOCUIGY"
      },
      "source": [
        "def simple_function2():\n",
        "  return 1\n",
        "  "
      ],
      "execution_count": 1,
      "outputs": []
    },
    {
      "cell_type": "markdown",
      "metadata": {
        "id": "FkQGP68NUU11"
      },
      "source": [
        "Put things into function"
      ]
    },
    {
      "cell_type": "code",
      "metadata": {
        "id": "nnzL1bqxVDbN"
      },
      "source": [
        ""
      ],
      "execution_count": null,
      "outputs": []
    },
    {
      "cell_type": "code",
      "metadata": {
        "id": "CvZfundnUX5Z"
      },
      "source": [
        "def add(x,y):\n",
        "  return x+y\n",
        "  "
      ],
      "execution_count": 3,
      "outputs": []
    },
    {
      "cell_type": "code",
      "metadata": {
        "colab": {
          "base_uri": "https://localhost:8080/"
        },
        "id": "NfijPfL5Uv0T",
        "outputId": "f3b02e75-4f79-46a7-9c62-d033439f5aee"
      },
      "source": [
        "add(1,1)"
      ],
      "execution_count": 4,
      "outputs": [
        {
          "output_type": "execute_result",
          "data": {
            "text/plain": [
              "2"
            ]
          },
          "metadata": {},
          "execution_count": 4
        }
      ]
    },
    {
      "cell_type": "code",
      "metadata": {
        "id": "zNW7iSn9Uyo1"
      },
      "source": [
        "\n",
        "food = ['apple', 'onions', 'bacon']\n",
        "\n",
        "def complicated_function(my_food):\n",
        "  total = len(food)\n",
        "  print(f\"I am hungry, eat: {total} foods\")\n",
        "  for food in my_food:\n",
        "    print(f\"I love: {food}\")\n"
      ],
      "execution_count": 8,
      "outputs": []
    },
    {
      "cell_type": "markdown",
      "metadata": {
        "id": "oTmgGHYbWXl2"
      },
      "source": [
        "function pattern\n",
        "input\n",
        "work\n",
        "output\n",
        "\n"
      ]
    },
    {
      "cell_type": "code",
      "metadata": {
        "id": "iJpVpfylWzWO"
      },
      "source": [
        ""
      ],
      "execution_count": null,
      "outputs": []
    },
    {
      "cell_type": "markdown",
      "metadata": {
        "id": "U-FS5S7BXen5"
      },
      "source": [
        "##Exotic items with Functions\n"
      ]
    },
    {
      "cell_type": "code",
      "metadata": {
        "id": "CrFDE62ZXoFK"
      },
      "source": [
        ""
      ],
      "execution_count": null,
      "outputs": []
    },
    {
      "cell_type": "markdown",
      "metadata": {
        "id": "2nFh_nHJYO6e"
      },
      "source": [
        "###Partial Function"
      ]
    },
    {
      "cell_type": "code",
      "metadata": {
        "id": "X9j4htIQYRdB"
      },
      "source": [
        ""
      ],
      "execution_count": null,
      "outputs": []
    },
    {
      "cell_type": "markdown",
      "metadata": {
        "id": "632VuJoZYrTZ"
      },
      "source": [
        "###Lazy Evaluation"
      ]
    },
    {
      "cell_type": "code",
      "metadata": {
        "id": "ZSfvbwvfdeeG"
      },
      "source": [
        "\n",
        "huge_list = [1,100,10000]"
      ],
      "execution_count": 26,
      "outputs": []
    },
    {
      "cell_type": "code",
      "metadata": {
        "id": "RhdBDL8sdhjU"
      },
      "source": [
        "def process():\n",
        "    for num in huge_list:\n",
        "        yield num"
      ],
      "execution_count": 27,
      "outputs": []
    },
    {
      "cell_type": "code",
      "metadata": {
        "id": "SdkR1u6Mdj_-"
      },
      "source": [
        "result = process()"
      ],
      "execution_count": 28,
      "outputs": []
    },
    {
      "cell_type": "code",
      "metadata": {
        "colab": {
          "base_uri": "https://localhost:8080/"
        },
        "id": "75gg7SePdo4z",
        "outputId": "e019faff-6c50-4997-b2b6-f0384842151b"
      },
      "source": [
        "type(result)"
      ],
      "execution_count": 29,
      "outputs": [
        {
          "output_type": "execute_result",
          "data": {
            "text/plain": [
              "generator"
            ]
          },
          "metadata": {},
          "execution_count": 29
        }
      ]
    },
    {
      "cell_type": "code",
      "metadata": {
        "colab": {
          "base_uri": "https://localhost:8080/"
        },
        "id": "-TmO6v-Idqev",
        "outputId": "fb090697-9c77-40cd-a255-245b1efe793a"
      },
      "source": [
        "\n",
        "for _ in range(2):\n",
        "    print(next(result))"
      ],
      "execution_count": 30,
      "outputs": [
        {
          "output_type": "stream",
          "name": "stdout",
          "text": [
            "1\n",
            "100\n"
          ]
        }
      ]
    },
    {
      "cell_type": "code",
      "metadata": {
        "id": "PuTHpibCdtsz"
      },
      "source": [
        "def lazy_return_random_attacks():\n",
        "    \"\"\"Yield attacks each time\"\"\"\n",
        "    \n",
        "    import random\n",
        "    attacks = {\"kimura\": \"upper_body\",\n",
        "           \"straight_ankle_lock\":\"lower_body\", \n",
        "           \"arm_triangle\":\"upper_body\",\n",
        "            \"keylock\": \"upper_body\",\n",
        "            \"knee_bar\": \"lower_body\"}\n",
        "    while True:\n",
        "        random_attack = random.choices(list(attacks.keys()))\n",
        "        yield random_attack"
      ],
      "execution_count": 31,
      "outputs": []
    },
    {
      "cell_type": "code",
      "metadata": {
        "id": "Gm7nb8PHdxf1"
      },
      "source": [
        "\n",
        "attack = lazy_return_random_attacks()"
      ],
      "execution_count": 32,
      "outputs": []
    },
    {
      "cell_type": "code",
      "metadata": {
        "colab": {
          "base_uri": "https://localhost:8080/"
        },
        "id": "_aZUhsR4d0aY",
        "outputId": "c3dc7a7c-6e1a-459b-9b7c-80cbe5859dd2"
      },
      "source": [
        "\n",
        "type(attack)"
      ],
      "execution_count": 33,
      "outputs": [
        {
          "output_type": "execute_result",
          "data": {
            "text/plain": [
              "generator"
            ]
          },
          "metadata": {},
          "execution_count": 33
        }
      ]
    },
    {
      "cell_type": "code",
      "metadata": {
        "colab": {
          "base_uri": "https://localhost:8080/"
        },
        "id": "UcdrhqOJd2EK",
        "outputId": "ed33cd36-d096-4841-f936-beeb16de451a"
      },
      "source": [
        "for _ in range(3):\n",
        "    print(next(attack))"
      ],
      "execution_count": 34,
      "outputs": [
        {
          "output_type": "stream",
          "name": "stdout",
          "text": [
            "['straight_ankle_lock']\n",
            "['keylock']\n",
            "['kimura']\n"
          ]
        }
      ]
    }
  ]
}